{
  "nbformat": 4,
  "nbformat_minor": 0,
  "metadata": {
    "colab": {
      "provenance": []
    },
    "kernelspec": {
      "name": "python3",
      "display_name": "Python 3"
    },
    "language_info": {
      "name": "python"
    }
  },
  "cells": [
    {
      "cell_type": "markdown",
      "source": [
        "\n",
        "# 다변량 회귀 모델 \n",
        "nbastat.csv에서 야투 시도 횟수 (FGA), 3점슛 시도 횟수 (3PA), 자유투 시도 횟수 (FTA)\n",
        "로부터 득점수 (PTS)를 예측하는 모델을 만들고 이를 훈련시키시오.\n",
        "\n",
        "### 가설\n",
        "\n",
        "y = 세타0 + 세타1(x1) + 세타2(x2) + 세타3(x3)"
      ],
      "metadata": {
        "id": "BbCFyOHSiUG5"
      }
    },
    {
      "cell_type": "markdown",
      "source": [
        "1. library import"
      ],
      "metadata": {
        "id": "afv_FEVOlW4D"
      }
    },
    {
      "cell_type": "code",
      "source": [
        "import numpy as np\n",
        "import pandas as pd"
      ],
      "metadata": {
        "id": "IxX-6EMT9QwD"
      },
      "execution_count": 131,
      "outputs": []
    },
    {
      "cell_type": "markdown",
      "source": [
        "2. 드라이브 마운트 및 csv파일 업로드"
      ],
      "metadata": {
        "id": "bulkaTWO9S1w"
      }
    },
    {
      "cell_type": "code",
      "source": [
        "from google.colab import drive\n",
        "from google.colab import files\n",
        "\n",
        "drive.mount('/lecture-2023ai')\n",
        "files.upload()\n",
        "nbastat = pd.read_csv('nbastat2022.csv')"
      ],
      "metadata": {
        "colab": {
          "base_uri": "https://localhost:8080/",
          "height": 92
        },
        "id": "g7mn5PIW9WIT",
        "outputId": "fa088124-24e3-454a-f939-ee1c83dd9182"
      },
      "execution_count": 132,
      "outputs": [
        {
          "output_type": "stream",
          "name": "stdout",
          "text": [
            "Drive already mounted at /lecture-2023ai; to attempt to forcibly remount, call drive.mount(\"/lecture-2023ai\", force_remount=True).\n"
          ]
        },
        {
          "output_type": "display_data",
          "data": {
            "text/plain": [
              "<IPython.core.display.HTML object>"
            ],
            "text/html": [
              "\n",
              "     <input type=\"file\" id=\"files-6f66c03a-3f2c-468a-9538-f851e4c6f87e\" name=\"files[]\" multiple disabled\n",
              "        style=\"border:none\" />\n",
              "     <output id=\"result-6f66c03a-3f2c-468a-9538-f851e4c6f87e\">\n",
              "      Upload widget is only available when the cell has been executed in the\n",
              "      current browser session. Please rerun this cell to enable.\n",
              "      </output>\n",
              "      <script>// Copyright 2017 Google LLC\n",
              "//\n",
              "// Licensed under the Apache License, Version 2.0 (the \"License\");\n",
              "// you may not use this file except in compliance with the License.\n",
              "// You may obtain a copy of the License at\n",
              "//\n",
              "//      http://www.apache.org/licenses/LICENSE-2.0\n",
              "//\n",
              "// Unless required by applicable law or agreed to in writing, software\n",
              "// distributed under the License is distributed on an \"AS IS\" BASIS,\n",
              "// WITHOUT WARRANTIES OR CONDITIONS OF ANY KIND, either express or implied.\n",
              "// See the License for the specific language governing permissions and\n",
              "// limitations under the License.\n",
              "\n",
              "/**\n",
              " * @fileoverview Helpers for google.colab Python module.\n",
              " */\n",
              "(function(scope) {\n",
              "function span(text, styleAttributes = {}) {\n",
              "  const element = document.createElement('span');\n",
              "  element.textContent = text;\n",
              "  for (const key of Object.keys(styleAttributes)) {\n",
              "    element.style[key] = styleAttributes[key];\n",
              "  }\n",
              "  return element;\n",
              "}\n",
              "\n",
              "// Max number of bytes which will be uploaded at a time.\n",
              "const MAX_PAYLOAD_SIZE = 100 * 1024;\n",
              "\n",
              "function _uploadFiles(inputId, outputId) {\n",
              "  const steps = uploadFilesStep(inputId, outputId);\n",
              "  const outputElement = document.getElementById(outputId);\n",
              "  // Cache steps on the outputElement to make it available for the next call\n",
              "  // to uploadFilesContinue from Python.\n",
              "  outputElement.steps = steps;\n",
              "\n",
              "  return _uploadFilesContinue(outputId);\n",
              "}\n",
              "\n",
              "// This is roughly an async generator (not supported in the browser yet),\n",
              "// where there are multiple asynchronous steps and the Python side is going\n",
              "// to poll for completion of each step.\n",
              "// This uses a Promise to block the python side on completion of each step,\n",
              "// then passes the result of the previous step as the input to the next step.\n",
              "function _uploadFilesContinue(outputId) {\n",
              "  const outputElement = document.getElementById(outputId);\n",
              "  const steps = outputElement.steps;\n",
              "\n",
              "  const next = steps.next(outputElement.lastPromiseValue);\n",
              "  return Promise.resolve(next.value.promise).then((value) => {\n",
              "    // Cache the last promise value to make it available to the next\n",
              "    // step of the generator.\n",
              "    outputElement.lastPromiseValue = value;\n",
              "    return next.value.response;\n",
              "  });\n",
              "}\n",
              "\n",
              "/**\n",
              " * Generator function which is called between each async step of the upload\n",
              " * process.\n",
              " * @param {string} inputId Element ID of the input file picker element.\n",
              " * @param {string} outputId Element ID of the output display.\n",
              " * @return {!Iterable<!Object>} Iterable of next steps.\n",
              " */\n",
              "function* uploadFilesStep(inputId, outputId) {\n",
              "  const inputElement = document.getElementById(inputId);\n",
              "  inputElement.disabled = false;\n",
              "\n",
              "  const outputElement = document.getElementById(outputId);\n",
              "  outputElement.innerHTML = '';\n",
              "\n",
              "  const pickedPromise = new Promise((resolve) => {\n",
              "    inputElement.addEventListener('change', (e) => {\n",
              "      resolve(e.target.files);\n",
              "    });\n",
              "  });\n",
              "\n",
              "  const cancel = document.createElement('button');\n",
              "  inputElement.parentElement.appendChild(cancel);\n",
              "  cancel.textContent = 'Cancel upload';\n",
              "  const cancelPromise = new Promise((resolve) => {\n",
              "    cancel.onclick = () => {\n",
              "      resolve(null);\n",
              "    };\n",
              "  });\n",
              "\n",
              "  // Wait for the user to pick the files.\n",
              "  const files = yield {\n",
              "    promise: Promise.race([pickedPromise, cancelPromise]),\n",
              "    response: {\n",
              "      action: 'starting',\n",
              "    }\n",
              "  };\n",
              "\n",
              "  cancel.remove();\n",
              "\n",
              "  // Disable the input element since further picks are not allowed.\n",
              "  inputElement.disabled = true;\n",
              "\n",
              "  if (!files) {\n",
              "    return {\n",
              "      response: {\n",
              "        action: 'complete',\n",
              "      }\n",
              "    };\n",
              "  }\n",
              "\n",
              "  for (const file of files) {\n",
              "    const li = document.createElement('li');\n",
              "    li.append(span(file.name, {fontWeight: 'bold'}));\n",
              "    li.append(span(\n",
              "        `(${file.type || 'n/a'}) - ${file.size} bytes, ` +\n",
              "        `last modified: ${\n",
              "            file.lastModifiedDate ? file.lastModifiedDate.toLocaleDateString() :\n",
              "                                    'n/a'} - `));\n",
              "    const percent = span('0% done');\n",
              "    li.appendChild(percent);\n",
              "\n",
              "    outputElement.appendChild(li);\n",
              "\n",
              "    const fileDataPromise = new Promise((resolve) => {\n",
              "      const reader = new FileReader();\n",
              "      reader.onload = (e) => {\n",
              "        resolve(e.target.result);\n",
              "      };\n",
              "      reader.readAsArrayBuffer(file);\n",
              "    });\n",
              "    // Wait for the data to be ready.\n",
              "    let fileData = yield {\n",
              "      promise: fileDataPromise,\n",
              "      response: {\n",
              "        action: 'continue',\n",
              "      }\n",
              "    };\n",
              "\n",
              "    // Use a chunked sending to avoid message size limits. See b/62115660.\n",
              "    let position = 0;\n",
              "    do {\n",
              "      const length = Math.min(fileData.byteLength - position, MAX_PAYLOAD_SIZE);\n",
              "      const chunk = new Uint8Array(fileData, position, length);\n",
              "      position += length;\n",
              "\n",
              "      const base64 = btoa(String.fromCharCode.apply(null, chunk));\n",
              "      yield {\n",
              "        response: {\n",
              "          action: 'append',\n",
              "          file: file.name,\n",
              "          data: base64,\n",
              "        },\n",
              "      };\n",
              "\n",
              "      let percentDone = fileData.byteLength === 0 ?\n",
              "          100 :\n",
              "          Math.round((position / fileData.byteLength) * 100);\n",
              "      percent.textContent = `${percentDone}% done`;\n",
              "\n",
              "    } while (position < fileData.byteLength);\n",
              "  }\n",
              "\n",
              "  // All done.\n",
              "  yield {\n",
              "    response: {\n",
              "      action: 'complete',\n",
              "    }\n",
              "  };\n",
              "}\n",
              "\n",
              "scope.google = scope.google || {};\n",
              "scope.google.colab = scope.google.colab || {};\n",
              "scope.google.colab._files = {\n",
              "  _uploadFiles,\n",
              "  _uploadFilesContinue,\n",
              "};\n",
              "})(self);\n",
              "</script> "
            ]
          },
          "metadata": {}
        },
        {
          "output_type": "stream",
          "name": "stdout",
          "text": [
            "Saving nbastat2022.csv to nbastat2022 (1).csv\n"
          ]
        }
      ]
    },
    {
      "cell_type": "markdown",
      "source": [
        "3. 행 수와 컬럼 선택해보기"
      ],
      "metadata": {
        "id": "ycjKQ1--9nhe"
      }
    },
    {
      "cell_type": "code",
      "source": [
        "m = len(nbastat)\n",
        "\n",
        "x1 = nbastat[['FGA']]  # 야투 시도 횟수\n",
        "x2 = nbastat[['3PA']]  # 3점슛 시도 횟수\n",
        "x3 = nbastat[['FTA']] # 자유투 시도 횟수\n",
        "y = nbastat[['PTS']] # 득점수\n",
        "\n",
        "print(m, type(x1), type(x2), type(x3), type(y))"
      ],
      "metadata": {
        "colab": {
          "base_uri": "https://localhost:8080/"
        },
        "id": "aAH72HPG9qng",
        "outputId": "52511cc6-c812-4778-e526-57010bb193ba"
      },
      "execution_count": 166,
      "outputs": [
        {
          "output_type": "stream",
          "name": "stdout",
          "text": [
            "249 <class 'pandas.core.frame.DataFrame'> <class 'pandas.core.frame.DataFrame'> <class 'pandas.core.frame.DataFrame'> <class 'pandas.core.frame.DataFrame'>\n"
          ]
        }
      ]
    },
    {
      "cell_type": "markdown",
      "source": [
        "4. 결측값 처리"
      ],
      "metadata": {
        "id": "MCla6MIA9sLY"
      }
    },
    {
      "cell_type": "code",
      "source": [
        "x1 = x1.fillna(0)\n",
        "x2 = x2.fillna(0)\n",
        "x3 = x3.fillna(0)\n",
        "y = y.fillna(0)"
      ],
      "metadata": {
        "id": "odjXn7v89uQs"
      },
      "execution_count": 167,
      "outputs": []
    },
    {
      "cell_type": "markdown",
      "source": [
        "5. Numpy의 ndarray 형태로 변환\n"
      ],
      "metadata": {
        "id": "N8u5Mwy29wBe"
      }
    },
    {
      "cell_type": "code",
      "source": [
        "# Numpy로 변환\n",
        "x1 = (np.array(x1)).reshape(m, 1)\n",
        "x2 = (np.array(x2)).reshape(m, 1)\n",
        "x3 = (np.array(x3)).reshape(m, 1)\n",
        "y = (np.array(y)).reshape(m, 1)"
      ],
      "metadata": {
        "id": "58eifBqW93oE"
      },
      "execution_count": 168,
      "outputs": []
    },
    {
      "cell_type": "markdown",
      "source": [
        "6. 그래프로 그려보기"
      ],
      "metadata": {
        "id": "LpjKeY1P96jj"
      }
    },
    {
      "cell_type": "code",
      "source": [
        "# 그려보기\n",
        "import matplotlib.pyplot as plt\n",
        "plt.plot(x1, y, '.b')\n",
        "plt.plot(x2, y, '.r')\n",
        "plt.plot(x3, y, '.g')\n"
      ],
      "metadata": {
        "colab": {
          "base_uri": "https://localhost:8080/",
          "height": 448
        },
        "id": "pYIwPwnL95P2",
        "outputId": "d34cb171-39bf-4f55-c484-a53736de371c"
      },
      "execution_count": 216,
      "outputs": [
        {
          "output_type": "execute_result",
          "data": {
            "text/plain": [
              "[<matplotlib.lines.Line2D at 0x7f0461f22a90>]"
            ]
          },
          "metadata": {},
          "execution_count": 216
        },
        {
          "output_type": "display_data",
          "data": {
            "text/plain": [
              "<Figure size 640x480 with 1 Axes>"
            ],
            "image/png": "[encoded data removed]"
          },
          "metadata": {}
        }
      ]
    },
    {
      "cell_type": "markdown",
      "source": [
        "7. 경사하강을 위해 알파값과 반복임계값(iter) 설정"
      ],
      "metadata": {
        "id": "XdXJ2Oo2-AIe"
      }
    },
    {
      "cell_type": "code",
      "source": [
        "learning_rate = 0.0001\n",
        "n_iter = 800"
      ],
      "metadata": {
        "id": "4AkAGVBA-KyS"
      },
      "execution_count": 225,
      "outputs": []
    },
    {
      "cell_type": "markdown",
      "source": [
        "8. 세타값과 계산할 Gradient 초기설정, 둘 다 1x4 형태의 벡터 형태"
      ],
      "metadata": {
        "id": "ElXksJ8P-O8q"
      }
    },
    {
      "cell_type": "code",
      "source": [
        "#np.zeros((a,b)) : a * b의 Zero Matrix 생성\n",
        "theta = np.zeros((4, 1)) # 세타\n",
        "gradients = np.zeros((4, 1)) #Gradient\n",
        "\n",
        "x0 = np.ones((m, 1)) #np.ones : 1로 가득 찬 array를 생성함\n",
        "xb = np.c_[x0, x1, x2, x3] #np.c_ : 배열을 합침 [[1, x1, x2, x3], [1, x1, x2, x3], ...]\n"
      ],
      "metadata": {
        "id": "QHqfkCwe-t6I"
      },
      "execution_count": 226,
      "outputs": []
    },
    {
      "cell_type": "markdown",
      "source": [
        "9. 손실 함수 정의"
      ],
      "metadata": {
        "id": "YHDIlCB-bzbW"
      }
    },
    {
      "cell_type": "code",
      "source": [
        "def j(xb, theta, y):\n",
        "  # 예측값 계산(현재 세타값에 대한 학습 데이터 249개의 예측값)\n",
        "  y_pred = np.dot(xb, theta)\n",
        "\n",
        "  # 실제값과의 차이 계산 -> 249개의 (예측값-실제값)\n",
        "  y_diff = y_pred - y\n",
        "\n",
        "  # 각각의 차들을 제곱 형태로 반환 -> 249개의 (차의 제곱)\n",
        "  #np.square : 각각의 요소를 제곱 형태로 반환\n",
        "  squared_diff = np.square((y_diff))\n",
        "\n",
        "  # 평균 -> 249개의 차의 제곱의 평균\n",
        "  #np.mean : 각각의 요소들의 평균을 반환\n",
        "  mean_squared = np.mean(squared_diff)\n",
        "  return mean_squared"
      ],
      "metadata": {
        "id": "Y1wQW4_sKhA1"
      },
      "execution_count": 227,
      "outputs": []
    },
    {
      "cell_type": "markdown",
      "source": [
        "9. 경사하강법을 실행하여 훈련한다. <br>\n",
        "Iterate를 반복할 때 마다 손실함수의 값을 계산하여 결과에 추가한다."
      ],
      "metadata": {
        "id": "1svAHJrF-43r"
      }
    },
    {
      "cell_type": "code",
      "source": [
        "# 훈련\n",
        "#np.dot(x,y) : 행렬 X와 Y의 곱\n",
        "#np.T : 전치행렬\n",
        "\n",
        "loss = []\n",
        "\n",
        "for i in range(n_iter):\n",
        "  gradients = (1.0/m) * xb.T.dot(xb.dot(theta) - y)\n",
        "  theta = theta - learning_rate * gradients\n",
        "\n",
        "  loss.append(j(xb, theta, y))\n",
        "\n"
      ],
      "metadata": {
        "id": "27b7P7HP-7Ti"
      },
      "execution_count": 228,
      "outputs": []
    },
    {
      "cell_type": "markdown",
      "source": [
        "10. 결과 확인<br>\n",
        "Loss 함수의 값이 수렴하는지 확인한다."
      ],
      "metadata": {
        "id": "Jp42USgy--Ms"
      }
    },
    {
      "cell_type": "code",
      "execution_count": 229,
      "metadata": {
        "id": "yeJ60wGhraFs",
        "colab": {
          "base_uri": "https://localhost:8080/",
          "height": 561
        },
        "outputId": "2e6f780a-deb8-4661-b095-566ab591ba92"
      },
      "outputs": [
        {
          "output_type": "stream",
          "name": "stdout",
          "text": [
            "[[0.0850835 ]\n",
            " [1.04875931]\n",
            " [0.28365118]\n",
            " [0.36586524]]\n",
            "error 1.7613875941138313\n"
          ]
        },
        {
          "output_type": "display_data",
          "data": {
            "text/plain": [
              "<Figure size 640x480 with 1 Axes>"
            ],
            "image/png": "[encoded data removed]"
          },
          "metadata": {}
        }
      ],
      "source": [
        "\n",
        "print(theta)\n",
        "\n",
        "figure, ax  = plt.subplots(1, 1)  #그림과 좌표측\n",
        "ax.title.set_text('loss')\n",
        "ax.plot(loss)\n",
        "ax.set_ylabel('loss')\n",
        "ax.set_xlabel('iter number')\n",
        "\n",
        "print('error', j(xb, theta, y))\n",
        "plt.show()"
      ]
    }
  ]
}