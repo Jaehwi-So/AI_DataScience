{
  "nbformat": 4,
  "nbformat_minor": 0,
  "metadata": {
    "colab": {
      "provenance": []
    },
    "kernelspec": {
      "name": "python3",
      "display_name": "Python 3"
    },
    "language_info": {
      "name": "python"
    }
  },
  "cells": [
    {
      "cell_type": "markdown",
      "source": [],
      "metadata": {
        "id": "BbCFyOHSiUG5"
      }
    },
    {
      "cell_type": "markdown",
      "source": [
        "1. library import"
      ],
      "metadata": {
        "id": "afv_FEVOlW4D"
      }
    },
    {
      "cell_type": "code",
      "source": [
        "import numpy as np\n",
        "import pandas as pd"
      ],
      "metadata": {
        "id": "IxX-6EMT9QwD"
      },
      "execution_count": 1,
      "outputs": []
    },
    {
      "cell_type": "markdown",
      "source": [
        "2. 드라이브 마운트 및 csv파일 업로드"
      ],
      "metadata": {
        "id": "bulkaTWO9S1w"
      }
    },
    {
      "cell_type": "code",
      "source": [
        "from google.colab import drive\n",
        "from google.colab import files\n",
        "\n",
        "drive.mount('/lecture-2023ai')\n",
        "files.upload()\n",
        "nbastat = pd.read_csv('nbastat2022.csv')"
      ],
      "metadata": {
        "colab": {
          "base_uri": "https://localhost:8080/",
          "height": 92
        },
        "id": "g7mn5PIW9WIT",
        "outputId": "6919e564-f4b8-4664-db0a-23af3d1cbfc7"
      },
      "execution_count": 2,
      "outputs": [
        {
          "output_type": "stream",
          "name": "stdout",
          "text": [
            "Mounted at /lecture-2023ai\n"
          ]
        },
        {
          "output_type": "display_data",
          "data": {
            "text/plain": [
              "<IPython.core.display.HTML object>"
            ],
            "text/html": [
              "\n",
              "     <input type=\"file\" id=\"files-19e02902-963f-43d6-9140-08a1dcc2ec75\" name=\"files[]\" multiple disabled\n",
              "        style=\"border:none\" />\n",
              "     <output id=\"result-19e02902-963f-43d6-9140-08a1dcc2ec75\">\n",
              "      Upload widget is only available when the cell has been executed in the\n",
              "      current browser session. Please rerun this cell to enable.\n",
              "      </output>\n",
              "      <script>// Copyright 2017 Google LLC\n",
              "//\n",
              "// Licensed under the Apache License, Version 2.0 (the \"License\");\n",
              "// you may not use this file except in compliance with the License.\n",
              "// You may obtain a copy of the License at\n",
              "//\n",
              "//      http://www.apache.org/licenses/LICENSE-2.0\n",
              "//\n",
              "// Unless required by applicable law or agreed to in writing, software\n",
              "// distributed under the License is distributed on an \"AS IS\" BASIS,\n",
              "// WITHOUT WARRANTIES OR CONDITIONS OF ANY KIND, either express or implied.\n",
              "// See the License for the specific language governing permissions and\n",
              "// limitations under the License.\n",
              "\n",
              "/**\n",
              " * @fileoverview Helpers for google.colab Python module.\n",
              " */\n",
              "(function(scope) {\n",
              "function span(text, styleAttributes = {}) {\n",
              "  const element = document.createElement('span');\n",
              "  element.textContent = text;\n",
              "  for (const key of Object.keys(styleAttributes)) {\n",
              "    element.style[key] = styleAttributes[key];\n",
              "  }\n",
              "  return element;\n",
              "}\n",
              "\n",
              "// Max number of bytes which will be uploaded at a time.\n",
              "const MAX_PAYLOAD_SIZE = 100 * 1024;\n",
              "\n",
              "function _uploadFiles(inputId, outputId) {\n",
              "  const steps = uploadFilesStep(inputId, outputId);\n",
              "  const outputElement = document.getElementById(outputId);\n",
              "  // Cache steps on the outputElement to make it available for the next call\n",
              "  // to uploadFilesContinue from Python.\n",
              "  outputElement.steps = steps;\n",
              "\n",
              "  return _uploadFilesContinue(outputId);\n",
              "}\n",
              "\n",
              "// This is roughly an async generator (not supported in the browser yet),\n",
              "// where there are multiple asynchronous steps and the Python side is going\n",
              "// to poll for completion of each step.\n",
              "// This uses a Promise to block the python side on completion of each step,\n",
              "// then passes the result of the previous step as the input to the next step.\n",
              "function _uploadFilesContinue(outputId) {\n",
              "  const outputElement = document.getElementById(outputId);\n",
              "  const steps = outputElement.steps;\n",
              "\n",
              "  const next = steps.next(outputElement.lastPromiseValue);\n",
              "  return Promise.resolve(next.value.promise).then((value) => {\n",
              "    // Cache the last promise value to make it available to the next\n",
              "    // step of the generator.\n",
              "    outputElement.lastPromiseValue = value;\n",
              "    return next.value.response;\n",
              "  });\n",
              "}\n",
              "\n",
              "/**\n",
              " * Generator function which is called between each async step of the upload\n",
              " * process.\n",
              " * @param {string} inputId Element ID of the input file picker element.\n",
              " * @param {string} outputId Element ID of the output display.\n",
              " * @return {!Iterable<!Object>} Iterable of next steps.\n",
              " */\n",
              "function* uploadFilesStep(inputId, outputId) {\n",
              "  const inputElement = document.getElementById(inputId);\n",
              "  inputElement.disabled = false;\n",
              "\n",
              "  const outputElement = document.getElementById(outputId);\n",
              "  outputElement.innerHTML = '';\n",
              "\n",
              "  const pickedPromise = new Promise((resolve) => {\n",
              "    inputElement.addEventListener('change', (e) => {\n",
              "      resolve(e.target.files);\n",
              "    });\n",
              "  });\n",
              "\n",
              "  const cancel = document.createElement('button');\n",
              "  inputElement.parentElement.appendChild(cancel);\n",
              "  cancel.textContent = 'Cancel upload';\n",
              "  const cancelPromise = new Promise((resolve) => {\n",
              "    cancel.onclick = () => {\n",
              "      resolve(null);\n",
              "    };\n",
              "  });\n",
              "\n",
              "  // Wait for the user to pick the files.\n",
              "  const files = yield {\n",
              "    promise: Promise.race([pickedPromise, cancelPromise]),\n",
              "    response: {\n",
              "      action: 'starting',\n",
              "    }\n",
              "  };\n",
              "\n",
              "  cancel.remove();\n",
              "\n",
              "  // Disable the input element since further picks are not allowed.\n",
              "  inputElement.disabled = true;\n",
              "\n",
              "  if (!files) {\n",
              "    return {\n",
              "      response: {\n",
              "        action: 'complete',\n",
              "      }\n",
              "    };\n",
              "  }\n",
              "\n",
              "  for (const file of files) {\n",
              "    const li = document.createElement('li');\n",
              "    li.append(span(file.name, {fontWeight: 'bold'}));\n",
              "    li.append(span(\n",
              "        `(${file.type || 'n/a'}) - ${file.size} bytes, ` +\n",
              "        `last modified: ${\n",
              "            file.lastModifiedDate ? file.lastModifiedDate.toLocaleDateString() :\n",
              "                                    'n/a'} - `));\n",
              "    const percent = span('0% done');\n",
              "    li.appendChild(percent);\n",
              "\n",
              "    outputElement.appendChild(li);\n",
              "\n",
              "    const fileDataPromise = new Promise((resolve) => {\n",
              "      const reader = new FileReader();\n",
              "      reader.onload = (e) => {\n",
              "        resolve(e.target.result);\n",
              "      };\n",
              "      reader.readAsArrayBuffer(file);\n",
              "    });\n",
              "    // Wait for the data to be ready.\n",
              "    let fileData = yield {\n",
              "      promise: fileDataPromise,\n",
              "      response: {\n",
              "        action: 'continue',\n",
              "      }\n",
              "    };\n",
              "\n",
              "    // Use a chunked sending to avoid message size limits. See b/62115660.\n",
              "    let position = 0;\n",
              "    do {\n",
              "      const length = Math.min(fileData.byteLength - position, MAX_PAYLOAD_SIZE);\n",
              "      const chunk = new Uint8Array(fileData, position, length);\n",
              "      position += length;\n",
              "\n",
              "      const base64 = btoa(String.fromCharCode.apply(null, chunk));\n",
              "      yield {\n",
              "        response: {\n",
              "          action: 'append',\n",
              "          file: file.name,\n",
              "          data: base64,\n",
              "        },\n",
              "      };\n",
              "\n",
              "      let percentDone = fileData.byteLength === 0 ?\n",
              "          100 :\n",
              "          Math.round((position / fileData.byteLength) * 100);\n",
              "      percent.textContent = `${percentDone}% done`;\n",
              "\n",
              "    } while (position < fileData.byteLength);\n",
              "  }\n",
              "\n",
              "  // All done.\n",
              "  yield {\n",
              "    response: {\n",
              "      action: 'complete',\n",
              "    }\n",
              "  };\n",
              "}\n",
              "\n",
              "scope.google = scope.google || {};\n",
              "scope.google.colab = scope.google.colab || {};\n",
              "scope.google.colab._files = {\n",
              "  _uploadFiles,\n",
              "  _uploadFilesContinue,\n",
              "};\n",
              "})(self);\n",
              "</script> "
            ]
          },
          "metadata": {}
        },
        {
          "output_type": "stream",
          "name": "stdout",
          "text": [
            "Saving nbastat2022.csv to nbastat2022.csv\n"
          ]
        }
      ]
    },
    {
      "cell_type": "markdown",
      "source": [
        "3. 행 수와 컬럼 선택해보기"
      ],
      "metadata": {
        "id": "ycjKQ1--9nhe"
      }
    },
    {
      "cell_type": "code",
      "source": [
        "m = len(nbastat)\n",
        "\n",
        "x = nbastat[['FGA']]  # 필드 슛 시도\n",
        "y = nbastat[['FGM']]  # 슛 성공 개수"
      ],
      "metadata": {
        "id": "aAH72HPG9qng"
      },
      "execution_count": 14,
      "outputs": []
    },
    {
      "cell_type": "markdown",
      "source": [
        "4. 결측값 처리"
      ],
      "metadata": {
        "id": "MCla6MIA9sLY"
      }
    },
    {
      "cell_type": "code",
      "source": [
        "x = x.fillna(0)\n",
        "y = y.fillna(0)"
      ],
      "metadata": {
        "id": "odjXn7v89uQs"
      },
      "execution_count": 15,
      "outputs": []
    },
    {
      "cell_type": "markdown",
      "source": [
        "5. Numpy의 ndarray 형태로 변환\n"
      ],
      "metadata": {
        "id": "N8u5Mwy29wBe"
      }
    },
    {
      "cell_type": "code",
      "source": [
        "# Numpy로 변환\n",
        "x = (np.array(x)).reshape(m, 1)\n",
        "y = (np.array(y)).reshape(m, 1)"
      ],
      "metadata": {
        "id": "58eifBqW93oE"
      },
      "execution_count": 16,
      "outputs": []
    },
    {
      "cell_type": "markdown",
      "source": [
        "6. 그래프로 그려보기"
      ],
      "metadata": {
        "id": "LpjKeY1P96jj"
      }
    },
    {
      "cell_type": "code",
      "source": [
        "# 그려보기\n",
        "import matplotlib.pyplot as plt\n",
        "plt.plot(x, y, '.b')\n",
        "plt.xlabel('FGA')\n",
        "plt.ylabel('FGM')\n"
      ],
      "metadata": {
        "colab": {
          "base_uri": "https://localhost:8080/",
          "height": 467
        },
        "id": "pYIwPwnL95P2",
        "outputId": "148df822-446d-4322-b60c-e9092e562821"
      },
      "execution_count": 17,
      "outputs": [
        {
          "output_type": "execute_result",
          "data": {
            "text/plain": [
              "Text(0, 0.5, 'FGM')"
            ]
          },
          "metadata": {},
          "execution_count": 17
        },
        {
          "output_type": "display_data",
          "data": {
            "text/plain": [
              "<Figure size 640x480 with 1 Axes>"
            ],
            "image/png": "[encoded data removed]"
          },
          "metadata": {}
        }
      ]
    },
    {
      "cell_type": "markdown",
      "source": [
        "7. 경사하강을 위해 알파값과 반복임계값(iter) 설정"
      ],
      "metadata": {
        "id": "XdXJ2Oo2-AIe"
      }
    },
    {
      "cell_type": "code",
      "source": [
        "# 10. 준비\n",
        "learning_rate = 0.0001\n",
        "n_iter = 949"
      ],
      "metadata": {
        "id": "4AkAGVBA-KyS"
      },
      "execution_count": 18,
      "outputs": []
    },
    {
      "cell_type": "markdown",
      "source": [
        "8. 세타값과 계산할 Gradient 초기설정, 둘 다 1x2 형태의 벡터 형태이고, 여기서는 세타값은 (0,0)으로 설정하지만 좋은 시작점을 찾아서 경사하강을 실행하는 것이 좋다.<br><br>\n",
        "y = ax+b의 선형 회귀 모델에서 a와 b를 결정하는 것이 우리의 목적이었다.<br>\n",
        "x는 필드 슛 성공의 갯수들이었다. \n",
        "xb는 각각 세타0(=a) 과 세타1(=b) 의 계수이다."
      ],
      "metadata": {
        "id": "ElXksJ8P-O8q"
      }
    },
    {
      "cell_type": "code",
      "source": [
        "#np.zeros((a,b)) : a * b의 Zero Matrix 생성\n",
        "theta = np.zeros((2, 1)) # 세타\n",
        "gradients = np.zeros((2, 1)) #손실값\n",
        "\n",
        "x0 = np.ones((m, 1)) #np.ones : 1로 가득 찬 array를 생성함\n",
        "xb = np.c_[x0, x] #np.c_ : 배열을 합침 [[1, x1], [1, x2], ...]"
      ],
      "metadata": {
        "id": "QHqfkCwe-t6I"
      },
      "execution_count": 19,
      "outputs": []
    },
    {
      "cell_type": "markdown",
      "source": [],
      "metadata": {
        "id": "tpn6MIDgC8QM"
      }
    },
    {
      "cell_type": "markdown",
      "source": [
        "9. 경사하강법을 실행하여 훈련한다. <br>\n",
        "초기값에서부터 MSE 손실함수를 세타0과 세타1에 대해 각각 편미분하여 Gradient를 계산한다. Gradient는 1x2의 벡터형태로 나온다. <br>\n",
        "그리고 나서 각각의 세타값을 각각의 Gradient값에 따라서 학습률과 곱하여 이동(갱신)해준다.\n",
        "<br>\n",
        "반복할수록 Gradient가 줄어들고, 세타가 최소값에 수렴하는 것을 확인하면 경사하강 성공!"
      ],
      "metadata": {
        "id": "1svAHJrF-43r"
      }
    },
    {
      "cell_type": "code",
      "source": [
        "# 훈련\n",
        "#np.dot(x,y) : 행렬 X와 Y의 곱\n",
        "#np.T : 전치행렬\n",
        "for i in range(n_iter):\n",
        "  gradients = (1.0/m) * xb.T.dot(xb.dot(theta) - y)\n",
        "  theta = theta - learning_rate * gradients\n",
        "  if(i % 100 == 0):\n",
        "    print('gradient', gradients)\n",
        "    print('theta', theta)\n",
        "\n"
      ],
      "metadata": {
        "colab": {
          "base_uri": "https://localhost:8080/"
        },
        "id": "27b7P7HP-7Ti",
        "outputId": "1875506b-f14e-4bcc-fa0e-c6cb5fafe663"
      },
      "execution_count": 22,
      "outputs": [
        {
          "output_type": "stream",
          "name": "stdout",
          "text": [
            "gradient [[-0.01213209]\n",
            " [ 0.00103103]]\n",
            "theta [[0.04122376]\n",
            " [0.45727478]]\n",
            "gradient [[-0.01210948]\n",
            " [ 0.00102912]]\n",
            "theta [[0.04134497]\n",
            " [0.45726448]]\n",
            "gradient [[-0.01208692]\n",
            " [ 0.00102721]]\n",
            "theta [[0.04146595]\n",
            " [0.4572542 ]]\n",
            "gradient [[-0.0120644]\n",
            " [ 0.0010253]]\n",
            "theta [[0.04158671]\n",
            " [0.45724394]]\n",
            "gradient [[-0.01204192]\n",
            " [ 0.00102339]]\n",
            "theta [[0.04170724]\n",
            " [0.4572337 ]]\n",
            "gradient [[-0.01201948]\n",
            " [ 0.00102148]]\n",
            "theta [[0.04182754]\n",
            " [0.45722347]]\n",
            "gradient [[-0.01199709]\n",
            " [ 0.00101958]]\n",
            "theta [[0.04194762]\n",
            " [0.45721327]]\n",
            "gradient [[-0.01197473]\n",
            " [ 0.00101768]]\n",
            "theta [[0.04206748]\n",
            " [0.45720308]]\n",
            "gradient [[-0.01195242]\n",
            " [ 0.00101578]]\n",
            "theta [[0.04218712]\n",
            " [0.45719291]]\n",
            "gradient [[-0.01193015]\n",
            " [ 0.00101389]]\n",
            "theta [[0.04230653]\n",
            " [0.45718277]]\n"
          ]
        }
      ]
    },
    {
      "cell_type": "markdown",
      "source": [
        "10. 결과 확인"
      ],
      "metadata": {
        "id": "Jp42USgy--Ms"
      }
    },
    {
      "cell_type": "code",
      "execution_count": 23,
      "metadata": {
        "id": "yeJ60wGhraFs",
        "colab": {
          "base_uri": "https://localhost:8080/",
          "height": 448
        },
        "outputId": "a389f33c-44b5-4585-962b-eb14addd61c1"
      },
      "outputs": [
        {
          "output_type": "stream",
          "name": "stdout",
          "text": [
            "[6.90003229]\n"
          ]
        },
        {
          "output_type": "display_data",
          "data": {
            "text/plain": [
              "<Figure size 640x480 with 1 Axes>"
            ],
            "image/png": "[encoded data removed]"
          },
          "metadata": {}
        }
      ],
      "source": [
        "# 결과\n",
        "y_pred = xb.dot(theta)\n",
        "plt.plot(x, y_pred, color='Red')\n",
        "plt.plot(x, y, '.b')\n",
        "\n",
        "xtest = np.array([1, 15])\n",
        "result = np.dot(xtest, theta)\n",
        "print(result)"
      ]
    }
  ]
}